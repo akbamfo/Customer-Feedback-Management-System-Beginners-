{
 "cells": [
  {
   "cell_type": "markdown",
   "metadata": {},
   "source": [
    "# Customer Feedback Management System\n",
    "Welcome to the Customer Feedback Management System project. This project is to build a system that collects and analyzes customer feeback data using python. The objective is to gain practical experience with:\n",
    "* Variables\n",
    "* Data types\n",
    "* Operators\n",
    "* Control flow\n",
    "* String Manipulation\n",
    "* Jupyter Notebook\n",
    "* Pandas"
   ]
  },
  {
   "cell_type": "markdown",
   "metadata": {},
   "source": [
    "## Installation of Library\n",
    "Here, we'll install the following libraries to start the follwing projects.\n",
    "* Pandas: \n",
    "* csv:"
   ]
  },
  {
   "cell_type": "code",
   "execution_count": null,
   "metadata": {},
   "outputs": [],
   "source": [
    "# Libraries to be used for the project\n",
    "import pandas as pd\n",
    "import csv"
   ]
  },
  {
   "cell_type": "code",
   "execution_count": null,
   "metadata": {},
   "outputs": [],
   "source": [
    "# Collecting Feedback from five (5) customers. \n",
    "customer_name1 = input(\"Enter the first customer's name: \")\n",
    "customer_rating1 = float(input(\"Enter the first customer's rating (1-5): \"))\n",
    "customer_feedback1 = input(\"Enter the first customer's feedback: \")\n",
    "\n",
    "customer_name2 = input(\"Enter the second customer's name: \")\n",
    "customer_rating2 = float(input(\"Enter the second customer's rating (1-5): \"))\n",
    "customer_feedback2 = input(\"Enter the second customer's feedback: \")\n",
    "\n",
    "customer_name3 = input(\"Enter the third customer's name: \")\n",
    "customer_rating3 = float(input(\"Enter the third customer's rating (1-5): \"))\n",
    "customer_feedback3 = input(\"Enter the third customer's feedback: \")\n",
    "\n",
    "customer_name4 = input(\"Enter the fourth customer's name: \")\n",
    "customer_rating4 = float(input(\"Enter the fourth customer's rating (1-5): \"))\n",
    "customer_feedback4 = input(\"Enter the fourth customer's feedback: \")\n",
    "\n",
    "customer_name5 = input(\"Enter the fifth customer's name: \")\n",
    "customer_rating5 = float(input(\"Enter the fifth customer's rating (1-5): \"))\n",
    "customer_feedback5 = input(\"Enter the fifth customer's feedback: \")"
   ]
  },
  {
   "cell_type": "code",
   "execution_count": null,
   "metadata": {},
   "outputs": [],
   "source": [
    "with open('customer_feedback.csv', 'w', newline='') as file:\n",
    "    writer = csv.writer(file)\n",
    "    writer.writerow([\"Name\",\"Rating\",\"Feedback\"])\n",
    "    writer.writerow([customer_name1, customer_rating1, customer_feedback1])\n",
    "    writer.writerow([customer_name2, customer_rating2, customer_feedback2])\n",
    "    writer.writerow([customer_name3, customer_rating3, customer_feedback3])\n",
    "    writer.writerow([customer_name4, customer_rating4, customer_feedback4])\n",
    "    writer.writerow([customer_name5, customer_rating5, customer_feedback5])"
   ]
  },
  {
   "cell_type": "code",
   "execution_count": null,
   "metadata": {},
   "outputs": [],
   "source": [
    "customerfb_data = pd.read_csv('customer_feedback.csv')\n",
    "print(customerfb_data) "
   ]
  },
  {
   "cell_type": "code",
   "execution_count": null,
   "metadata": {},
   "outputs": [],
   "source": [
    "customerfb_data.head()"
   ]
  },
  {
   "cell_type": "code",
   "execution_count": null,
   "metadata": {},
   "outputs": [],
   "source": [
    "customerfb_data.info()"
   ]
  },
  {
   "cell_type": "code",
   "execution_count": null,
   "metadata": {},
   "outputs": [],
   "source": [
    "# Calculate total and average rating\n",
    "total_rating = customerfb_data['Rating'].sum()\n",
    "\n",
    "avg_rating = total_rating / len(customerfb_data)\n",
    "\n",
    "print(f\"The total rating for the five customers are: {total_rating}.\\nThe average rating is: {avg_rating}\")"
   ]
  },
  {
   "cell_type": "code",
   "execution_count": null,
   "metadata": {},
   "outputs": [],
   "source": [
    "# Categorizing feedback for the first customer\n",
    "if customer_rating1 >= 4 and \"Excellent\" in customer_feedback1.lower():\n",
    "    feedback_cat1 = \"Very Positive.\"\n",
    "elif customer_rating1 >= 4:\n",
    "    feedback_cat1 = \"Positive.\"\n",
    "elif customer_rating1 == 3:\n",
    "    feedback_cat1 = \"Neutral.\"\n",
    "else:\n",
    "    feedback_cat1 = \"Negative.\"\n",
    "\n",
    "\n",
    "# Categorizing feedback for the second customer\n",
    "if customer_rating2 >= 4 and \"Excellent\" in customer_feedback2.lower():\n",
    "    feedback_cat2 = \"Very Positive.\"\n",
    "elif customer_rating2 >= 4:\n",
    "    feedback_cat2 = \"Positive.\"\n",
    "elif customer_rating2 == 3:\n",
    "    feedback_cat2 = \"Neutral.\"\n",
    "else:\n",
    "    feedback_cat2 = \"Negative.\"\n",
    "\n",
    "\n",
    "# Categorizing feedback for the third customer\n",
    "if customer_rating3 >= 4 and \"Excellent\" in customer_feedback3.lower():\n",
    "    feedback_cat3 = \"Very Positive.\"\n",
    "elif customer_rating3 >= 4:\n",
    "    feedback_cat3 = \"Positive.\"\n",
    "elif customer_rating3 == 3:\n",
    "    feedback_cat3 = \"Neutral.\"\n",
    "else:\n",
    "    feedback_cat3 = \"Negative.\"\n",
    "\n",
    "\n",
    "# Categorizing feedback for the fourth customer\n",
    "if customer_rating4 >= 4 and \"Excellent\" in customer_feedback4.lower():\n",
    "    feedback_cat4 = \"Very Positive.\"\n",
    "elif customer_rating4 >= 4:\n",
    "    feedback_cat4 = \"Positive.\"\n",
    "elif customer_rating4 == 3:\n",
    "    feedback_cat4 = \"Neutral.\"\n",
    "else:\n",
    "    feedback_cat4 = \"Negative.\"\n",
    "\n",
    "\n",
    "# Categorizing feedback for the fifth customer\n",
    "if customer_rating5 >= 4 and \"Excellent\" in customer_feedback5.lower():\n",
    "    feedback_cat5 = \"Very Positive.\"\n",
    "elif customer_rating5 >= 4:\n",
    "    feedback_cat5 = \"Positive.\"\n",
    "elif customer_rating5 == 3:\n",
    "    feedback_cat5 = \"Neutral.\"\n",
    "else:\n",
    "    feedback_cat5 = \"Negative.\""
   ]
  },
  {
   "cell_type": "code",
   "execution_count": null,
   "metadata": {},
   "outputs": [],
   "source": [
    "feedback_categories = [feedback_cat1, feedback_cat2, feedback_cat3, feedback_cat4, feedback_cat5]\n",
    "print(f\"Feedback Categories: {feedback_categories}\")"
   ]
  },
  {
   "cell_type": "code",
   "execution_count": null,
   "metadata": {},
   "outputs": [],
   "source": [
    "# Counting occurrences of a specific word\n",
    "feedback_words1 = customer_feedback1.lower().split()\n",
    "feedback_words2 = customer_feedback2.lower().split()\n",
    "feedback_words3 = customer_feedback3.lower().split()\n",
    "feedback_words4 = customer_feedback4.lower().split()\n",
    "feedback_words5 = customer_feedback5.lower().split()"
   ]
  },
  {
   "cell_type": "code",
   "execution_count": null,
   "metadata": {},
   "outputs": [],
   "source": [
    "print(feedback_words1)\n",
    "print(feedback_words2)\n",
    "print(feedback_words3)\n",
    "print(feedback_words4)\n",
    "print(feedback_words5)"
   ]
  },
  {
   "cell_type": "code",
   "execution_count": null,
   "metadata": {},
   "outputs": [],
   "source": [
    "# Counting occurrences of a specific word\n",
    "word_to_count1 = \"excellent\"\n",
    "word_count1 = feedback_words1.count(word_to_count1)\n",
    "\n",
    "word_to_count2 = \"very good\"\n",
    "word_count2 = feedback_words2.count(word_to_count2)\n",
    "\n",
    "word_to_count3 = \"good\"\n",
    "word_count3 = feedback_words3.count(word_to_count3)\n",
    "\n",
    "word_to_count4 = \"poor\"\n",
    "word_count4 = feedback_words4.count(word_to_count4)\n",
    "\n",
    "word_to_count5 = \"great\"\n",
    "word_count5 = feedback_words5.count(word_to_count5)\n",
    "\n",
    "# Display your result\n",
    "print(f\"Count of {word_to_count1} in first feedback: \", word_count1)\n",
    "print(f\"Count of {word_to_count2} in second feedback: \", word_count2)\n",
    "print(f\"Count of {word_to_count3} in third feedback: \", word_count3)\n",
    "print(f\"Count of {word_to_count4} in fourth feedback: \", word_count4)\n",
    "print(f\"Count of {word_to_count5} in fifth feedback: \", word_count5)"
   ]
  }
 ],
 "metadata": {
  "kernelspec": {
   "display_name": "Python 3",
   "language": "python",
   "name": "python3"
  },
  "language_info": {
   "codemirror_mode": {
    "name": "ipython",
    "version": 3
   },
   "file_extension": ".py",
   "mimetype": "text/x-python",
   "name": "python",
   "nbconvert_exporter": "python",
   "pygments_lexer": "ipython3",
   "version": "3.12.4"
  }
 },
 "nbformat": 4,
 "nbformat_minor": 2
}
